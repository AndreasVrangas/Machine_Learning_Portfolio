{
 "cells": [
  {
   "cell_type": "markdown",
   "metadata": {},
   "source": [
    "# Wind Power Prediction!"
   ]
  },
  {
   "cell_type": "markdown",
   "metadata": {},
   "source": [
    "This problem is about predicting the normalized produced power of a wind turbine. The problem is part of a weekly assignment given by Pierre Pinson at Technical University of Denmark (DTU) within his course \"Renewables at Electricity Markets\". On a weekly basis, mr. Pinson assigned to his students the prediction of produced wind power in a given time range. \n",
    "You can check Pierre Pinson's awesome stuff on wind power forecasting at his personal [page](http://pierrepinson.com/)\n",
    "In terms of this project, I will present a solution I made up on my own, for education purposes. On what's to come, I will show you some work on feature engineering, visualizations and predictive modelling. Furthermore, I will evaluate my model's prediction with the original values given by mr. Pinson with the root mean squared error of my predictions. First, I used a linear modelling approach for this problem and then I moved to an ensemble method (gradient boosting regression). So, stich with me on this, because it's gonna be tricky!!!"
   ]
  },
  {
   "cell_type": "code",
   "execution_count": 8,
   "metadata": {
    "collapsed": false
   },
   "outputs": [
    {
     "data": {
      "text/html": [
       "<div>\n",
       "<table border=\"1\" class=\"dataframe\">\n",
       "  <thead>\n",
       "    <tr style=\"text-align: right;\">\n",
       "      <th></th>\n",
       "      <th>TIMESTAMP</th>\n",
       "      <th>POWER</th>\n",
       "      <th>U10</th>\n",
       "      <th>V10</th>\n",
       "      <th>U100</th>\n",
       "      <th>V100</th>\n",
       "    </tr>\n",
       "  </thead>\n",
       "  <tbody>\n",
       "    <tr>\n",
       "      <th>0</th>\n",
       "      <td>20120101 1:00</td>\n",
       "      <td>0.378229</td>\n",
       "      <td>0.534894</td>\n",
       "      <td>-3.660243</td>\n",
       "      <td>0.765355</td>\n",
       "      <td>-4.486657</td>\n",
       "    </tr>\n",
       "    <tr>\n",
       "      <th>1</th>\n",
       "      <td>20120101 2:00</td>\n",
       "      <td>0.063012</td>\n",
       "      <td>0.330813</td>\n",
       "      <td>-2.676430</td>\n",
       "      <td>0.469875</td>\n",
       "      <td>-3.213752</td>\n",
       "    </tr>\n",
       "    <tr>\n",
       "      <th>2</th>\n",
       "      <td>20120101 3:00</td>\n",
       "      <td>0.036704</td>\n",
       "      <td>-0.065839</td>\n",
       "      <td>-2.029072</td>\n",
       "      <td>-0.020893</td>\n",
       "      <td>-2.418119</td>\n",
       "    </tr>\n",
       "    <tr>\n",
       "      <th>3</th>\n",
       "      <td>20120101 4:00</td>\n",
       "      <td>0.034342</td>\n",
       "      <td>-0.419549</td>\n",
       "      <td>-1.799090</td>\n",
       "      <td>-0.444867</td>\n",
       "      <td>-2.149654</td>\n",
       "    </tr>\n",
       "    <tr>\n",
       "      <th>4</th>\n",
       "      <td>20120101 5:00</td>\n",
       "      <td>0.033554</td>\n",
       "      <td>-0.754224</td>\n",
       "      <td>-1.661526</td>\n",
       "      <td>-0.838274</td>\n",
       "      <td>-1.991829</td>\n",
       "    </tr>\n",
       "  </tbody>\n",
       "</table>\n",
       "</div>"
      ],
      "text/plain": [
       "       TIMESTAMP     POWER       U10       V10      U100      V100\n",
       "0  20120101 1:00  0.378229  0.534894 -3.660243  0.765355 -4.486657\n",
       "1  20120101 2:00  0.063012  0.330813 -2.676430  0.469875 -3.213752\n",
       "2  20120101 3:00  0.036704 -0.065839 -2.029072 -0.020893 -2.418119\n",
       "3  20120101 4:00  0.034342 -0.419549 -1.799090 -0.444867 -2.149654\n",
       "4  20120101 5:00  0.033554 -0.754224 -1.661526 -0.838274 -1.991829"
      ]
     },
     "execution_count": 8,
     "metadata": {},
     "output_type": "execute_result"
    }
   ],
   "source": [
    "#Import all necessary modules (for now)\n",
    "import pandas as pd\n",
    "import numpy as np\n",
    "import matplotlib.pyplot as plt\n",
    "import seaborn as sns\n",
    "\n",
    "%matplotlib inline\n",
    "#load the data\n",
    "traindata = pd.read_csv('TrainData3.csv')\n",
    "forecast = pd.read_csv('WeatherForecastInput3.csv') \n",
    "solution = pd.read_csv('Solution3.csv')\n",
    "#Take a look to the traindata and the forecast data\n",
    "traindata.head()\n"
   ]
  },
  {
   "cell_type": "markdown",
   "metadata": {},
   "source": [
    "traindata contains the timestamp at which the measurement was taken, the measured power (normalized to 0-1 range) ,the horizontal and vertical speed at 10m and 100m respectively (U10,V10,U100,V100).Notice that the measurements are taken every hour in a from 1/1/2012 to 31/10/2013"
   ]
  },
  {
   "cell_type": "code",
   "execution_count": 3,
   "metadata": {
    "collapsed": false
   },
   "outputs": [
    {
     "data": {
      "text/html": [
       "<div>\n",
       "<table border=\"1\" class=\"dataframe\">\n",
       "  <thead>\n",
       "    <tr style=\"text-align: right;\">\n",
       "      <th></th>\n",
       "      <th>TIMESTAMP</th>\n",
       "      <th>U10</th>\n",
       "      <th>V10</th>\n",
       "      <th>U100</th>\n",
       "      <th>V100</th>\n",
       "    </tr>\n",
       "  </thead>\n",
       "  <tbody>\n",
       "    <tr>\n",
       "      <th>0</th>\n",
       "      <td>20131101 1:00</td>\n",
       "      <td>3.462251</td>\n",
       "      <td>-1.066374</td>\n",
       "      <td>4.323671</td>\n",
       "      <td>-1.330859</td>\n",
       "    </tr>\n",
       "    <tr>\n",
       "      <th>1</th>\n",
       "      <td>20131101 2:00</td>\n",
       "      <td>3.651341</td>\n",
       "      <td>-0.337717</td>\n",
       "      <td>4.532444</td>\n",
       "      <td>-0.451426</td>\n",
       "    </tr>\n",
       "    <tr>\n",
       "      <th>2</th>\n",
       "      <td>20131101 3:00</td>\n",
       "      <td>3.657829</td>\n",
       "      <td>0.328049</td>\n",
       "      <td>4.527268</td>\n",
       "      <td>0.341374</td>\n",
       "    </tr>\n",
       "    <tr>\n",
       "      <th>3</th>\n",
       "      <td>20131101 4:00</td>\n",
       "      <td>3.551698</td>\n",
       "      <td>0.735371</td>\n",
       "      <td>4.395563</td>\n",
       "      <td>0.818799</td>\n",
       "    </tr>\n",
       "    <tr>\n",
       "      <th>4</th>\n",
       "      <td>20131101 5:00</td>\n",
       "      <td>3.586921</td>\n",
       "      <td>1.050811</td>\n",
       "      <td>4.461128</td>\n",
       "      <td>1.251971</td>\n",
       "    </tr>\n",
       "  </tbody>\n",
       "</table>\n",
       "</div>"
      ],
      "text/plain": [
       "       TIMESTAMP       U10       V10      U100      V100\n",
       "0  20131101 1:00  3.462251 -1.066374  4.323671 -1.330859\n",
       "1  20131101 2:00  3.651341 -0.337717  4.532444 -0.451426\n",
       "2  20131101 3:00  3.657829  0.328049  4.527268  0.341374\n",
       "3  20131101 4:00  3.551698  0.735371  4.395563  0.818799\n",
       "4  20131101 5:00  3.586921  1.050811  4.461128  1.251971"
      ]
     },
     "execution_count": 3,
     "metadata": {},
     "output_type": "execute_result"
    }
   ],
   "source": [
    "forecast.head()"
   ]
  },
  {
   "cell_type": "markdown",
   "metadata": {},
   "source": [
    "the forecast data contains the timestamp data to predict and the wind speed components for every hour from 1/11/2013 until 1/12/2013. "
   ]
  },
  {
   "cell_type": "markdown",
   "metadata": {},
   "source": [
    "My strategy is simple. I will manipulate the traindata, make up some features and then do the same manipulation to the forecast data. First, I need to calculate the resultant wind speed for every hour of the day. As we know from common physics, the resultan power of two vertical components x and y is the square root of the sum of their squares."
   ]
  },
  {
   "cell_type": "code",
   "execution_count": 9,
   "metadata": {
    "collapsed": true
   },
   "outputs": [],
   "source": [
    "traindata['WS10'] = np.sqrt(traindata['U10']**2 + traindata['V10']**2)\n",
    "traindata['WS100'] = np.sqrt(traindata['U100']**2 + traindata['V100']**2)"
   ]
  },
  {
   "cell_type": "markdown",
   "metadata": {},
   "source": [
    "I figured out that the average height of the widely used wind-turbines is about [65m](https://www.wind-watch.org/faq-size.php). Since I don't know the exact height of the specific turbine, I chose to create another feature: the wind speed at 65m. I used the wind power profile law, as it is given at [wiki](https://en.wikipedia.org/wiki/Wind_profile_power_law). "
   ]
  },
  {
   "cell_type": "code",
   "execution_count": 10,
   "metadata": {
    "collapsed": true
   },
   "outputs": [],
   "source": [
    "traindata['WS65'] = traindata.WS100*0.65**((np.log(traindata.WS100)-np.log(traindata.WS10))/(np.log(100)-np.log(10)))"
   ]
  },
  {
   "cell_type": "markdown",
   "metadata": {},
   "source": [
    "Furthermore, since I know the wind speed componets, is easy for me to calculate the angle that these two components have between them.Numpy was more than once a faithful companio in my quest:"
   ]
  },
  {
   "cell_type": "code",
   "execution_count": 11,
   "metadata": {
    "collapsed": true
   },
   "outputs": [],
   "source": [
    "#Calculate wind angle 10m\n",
    "traindata['angle_10'] = np.arctan(traindata.V10/traindata.U10)   \n",
    "traindata['angle_10'] = np.degrees(traindata['angle_10'])\n",
    "#Calculate  wind angle 100m\n",
    "traindata['angle_100'] = np.arctan(traindata.V100/traindata.U100)   \n",
    "traindata['angle_100'] = np.degrees(traindata['angle_100'])\n"
   ]
  },
  {
   "cell_type": "markdown",
   "metadata": {},
   "source": [
    "What is more, I came up with the idea of transforming the \"TIMESTAMP\" column to timedate and extract the \"hour\" component. I found it a good idea, since the measurements were taken every hour of the day."
   ]
  },
  {
   "cell_type": "code",
   "execution_count": 12,
   "metadata": {
    "collapsed": true
   },
   "outputs": [],
   "source": [
    "traindata.TIMESTAMP =pd.to_datetime(traindata.TIMESTAMP) \n",
    "traindata['hour'] = traindata.TIMESTAMP.dt.hour"
   ]
  },
  {
   "cell_type": "markdown",
   "metadata": {},
   "source": [
    "While studying on this problem, I checked mr. Pinson's lectures. Luckily enough, mr. Pinson provided some hints to his students. One hints was the concept of calculating wind speed harmonics. Since I had already calculated the wind speed angle for every measurement, it was really simple to calculate its harmonics for every given height. Firstly, I transformed angle value to be positive (as the difference from 360 degrees) and then I calculated their harmonics with the formula provided. "
   ]
  },
  {
   "cell_type": "code",
   "execution_count": 13,
   "metadata": {
    "collapsed": false
   },
   "outputs": [],
   "source": [
    "from numpy import cos,sin,pi\n",
    "\n",
    "traindata['angle_10'] = np.where(traindata['angle_10'] < 0 , 360-abs(traindata['angle_10']), traindata.angle_10)\n",
    "traindata['angle_100'] = np.where(traindata['angle_100'] < 0 , 360-abs(traindata['angle_100']), traindata.angle_100)\n",
    "traindata['cos_10'] = cos((2*pi*(traindata['angle_10']))/360)\n",
    "traindata['sin_10'] = sin((2*pi*(traindata['angle_10']))/360)\n",
    "traindata['cos_100'] = cos((2*pi*(traindata['angle_100']))/360)\n",
    "traindata['sin_100'] = sin((2*pi*(traindata['angle_100']))/360)"
   ]
  },
  {
   "cell_type": "markdown",
   "metadata": {},
   "source": [
    "After all these steps, I checked the correlation of my variables with the target value (POWER). "
   ]
  },
  {
   "cell_type": "code",
   "execution_count": 69,
   "metadata": {
    "collapsed": false
   },
   "outputs": [
    {
     "data": {
      "text/plain": [
       "POWER             1.000000\n",
       "WS65              0.809666\n",
       "WS100             0.808623\n",
       "WS10              0.761842\n",
       "U100              0.411380\n",
       "U10               0.411126\n",
       "angle_100         0.068262\n",
       "angle_10          0.056155\n",
       "hour              0.014203\n",
       "harmonic_1_100    0.012895\n",
       "harmonic_1_10    -0.000856\n",
       "harmonic_2_10    -0.086742\n",
       "harmonic_2_100   -0.103902\n",
       "V10              -0.198619\n",
       "V100             -0.208321\n",
       "Name: POWER, dtype: float64"
      ]
     },
     "execution_count": 69,
     "metadata": {},
     "output_type": "execute_result"
    }
   ],
   "source": [
    "corr_power = traindata.corr().POWER\n",
    "corr_power = corr_power.sort_values(ascending = False)\n",
    "corr_power"
   ]
  },
  {
   "cell_type": "markdown",
   "metadata": {},
   "source": [
    "Next step, is the creation of polynomial variables from my features. I took the three most correlated variables, and added their square root, squares and cubes to my dataset."
   ]
  },
  {
   "cell_type": "code",
   "execution_count": 14,
   "metadata": {
    "collapsed": false
   },
   "outputs": [
    {
     "data": {
      "text/html": [
       "<div>\n",
       "<table border=\"1\" class=\"dataframe\">\n",
       "  <thead>\n",
       "    <tr style=\"text-align: right;\">\n",
       "      <th></th>\n",
       "      <th>TIMESTAMP</th>\n",
       "      <th>POWER</th>\n",
       "      <th>U10</th>\n",
       "      <th>V10</th>\n",
       "      <th>U100</th>\n",
       "      <th>V100</th>\n",
       "      <th>WS10</th>\n",
       "      <th>WS100</th>\n",
       "      <th>WS65</th>\n",
       "      <th>angle_10</th>\n",
       "      <th>...</th>\n",
       "      <th>cos_10</th>\n",
       "      <th>sin_10</th>\n",
       "      <th>cos_100</th>\n",
       "      <th>sin_100</th>\n",
       "      <th>WS10^2</th>\n",
       "      <th>WS10^3</th>\n",
       "      <th>WS100^2</th>\n",
       "      <th>WS100^3</th>\n",
       "      <th>WS65^2</th>\n",
       "      <th>WS65^3</th>\n",
       "    </tr>\n",
       "  </thead>\n",
       "  <tbody>\n",
       "    <tr>\n",
       "      <th>0</th>\n",
       "      <td>2012-01-01 01:00:00</td>\n",
       "      <td>0.378229</td>\n",
       "      <td>0.534894</td>\n",
       "      <td>-3.660243</td>\n",
       "      <td>0.765355</td>\n",
       "      <td>-4.486657</td>\n",
       "      <td>3.699120</td>\n",
       "      <td>4.551468</td>\n",
       "      <td>4.378283</td>\n",
       "      <td>278.314135</td>\n",
       "      <td>...</td>\n",
       "      <td>0.144600</td>\n",
       "      <td>-0.989490</td>\n",
       "      <td>0.168156</td>\n",
       "      <td>-0.985760</td>\n",
       "      <td>13.683492</td>\n",
       "      <td>50.616887</td>\n",
       "      <td>20.715863</td>\n",
       "      <td>94.287595</td>\n",
       "      <td>19.169359</td>\n",
       "      <td>83.928873</td>\n",
       "    </tr>\n",
       "    <tr>\n",
       "      <th>1</th>\n",
       "      <td>2012-01-01 02:00:00</td>\n",
       "      <td>0.063012</td>\n",
       "      <td>0.330813</td>\n",
       "      <td>-2.676430</td>\n",
       "      <td>0.469875</td>\n",
       "      <td>-3.213752</td>\n",
       "      <td>2.696797</td>\n",
       "      <td>3.247920</td>\n",
       "      <td>3.136872</td>\n",
       "      <td>277.046157</td>\n",
       "      <td>...</td>\n",
       "      <td>0.122669</td>\n",
       "      <td>-0.992448</td>\n",
       "      <td>0.144669</td>\n",
       "      <td>-0.989480</td>\n",
       "      <td>7.272714</td>\n",
       "      <td>19.613031</td>\n",
       "      <td>10.548987</td>\n",
       "      <td>34.262272</td>\n",
       "      <td>9.839966</td>\n",
       "      <td>30.866715</td>\n",
       "    </tr>\n",
       "    <tr>\n",
       "      <th>2</th>\n",
       "      <td>2012-01-01 03:00:00</td>\n",
       "      <td>0.036704</td>\n",
       "      <td>-0.065839</td>\n",
       "      <td>-2.029072</td>\n",
       "      <td>-0.020893</td>\n",
       "      <td>-2.418119</td>\n",
       "      <td>2.030140</td>\n",
       "      <td>2.418209</td>\n",
       "      <td>2.340353</td>\n",
       "      <td>88.141536</td>\n",
       "      <td>...</td>\n",
       "      <td>0.032431</td>\n",
       "      <td>0.999474</td>\n",
       "      <td>0.008640</td>\n",
       "      <td>0.999963</td>\n",
       "      <td>4.121468</td>\n",
       "      <td>8.367156</td>\n",
       "      <td>5.847736</td>\n",
       "      <td>14.141050</td>\n",
       "      <td>5.477250</td>\n",
       "      <td>12.818697</td>\n",
       "    </tr>\n",
       "    <tr>\n",
       "      <th>3</th>\n",
       "      <td>2012-01-01 04:00:00</td>\n",
       "      <td>0.034342</td>\n",
       "      <td>-0.419549</td>\n",
       "      <td>-1.799090</td>\n",
       "      <td>-0.444867</td>\n",
       "      <td>-2.149654</td>\n",
       "      <td>1.847362</td>\n",
       "      <td>2.195203</td>\n",
       "      <td>2.125483</td>\n",
       "      <td>76.873170</td>\n",
       "      <td>...</td>\n",
       "      <td>0.227107</td>\n",
       "      <td>0.973870</td>\n",
       "      <td>0.202654</td>\n",
       "      <td>0.979250</td>\n",
       "      <td>3.412745</td>\n",
       "      <td>6.304574</td>\n",
       "      <td>4.818918</td>\n",
       "      <td>10.578504</td>\n",
       "      <td>4.517679</td>\n",
       "      <td>9.602251</td>\n",
       "    </tr>\n",
       "    <tr>\n",
       "      <th>4</th>\n",
       "      <td>2012-01-01 05:00:00</td>\n",
       "      <td>0.033554</td>\n",
       "      <td>-0.754224</td>\n",
       "      <td>-1.661526</td>\n",
       "      <td>-0.838274</td>\n",
       "      <td>-1.991829</td>\n",
       "      <td>1.824698</td>\n",
       "      <td>2.161038</td>\n",
       "      <td>2.093712</td>\n",
       "      <td>65.585050</td>\n",
       "      <td>...</td>\n",
       "      <td>0.413342</td>\n",
       "      <td>0.910576</td>\n",
       "      <td>0.387903</td>\n",
       "      <td>0.921700</td>\n",
       "      <td>3.329523</td>\n",
       "      <td>6.075375</td>\n",
       "      <td>4.670084</td>\n",
       "      <td>10.092229</td>\n",
       "      <td>4.383628</td>\n",
       "      <td>9.178053</td>\n",
       "    </tr>\n",
       "  </tbody>\n",
       "</table>\n",
       "<p>5 rows × 22 columns</p>\n",
       "</div>"
      ],
      "text/plain": [
       "            TIMESTAMP     POWER       U10       V10      U100      V100  \\\n",
       "0 2012-01-01 01:00:00  0.378229  0.534894 -3.660243  0.765355 -4.486657   \n",
       "1 2012-01-01 02:00:00  0.063012  0.330813 -2.676430  0.469875 -3.213752   \n",
       "2 2012-01-01 03:00:00  0.036704 -0.065839 -2.029072 -0.020893 -2.418119   \n",
       "3 2012-01-01 04:00:00  0.034342 -0.419549 -1.799090 -0.444867 -2.149654   \n",
       "4 2012-01-01 05:00:00  0.033554 -0.754224 -1.661526 -0.838274 -1.991829   \n",
       "\n",
       "       WS10     WS100      WS65    angle_10    ...        cos_10    sin_10  \\\n",
       "0  3.699120  4.551468  4.378283  278.314135    ...      0.144600 -0.989490   \n",
       "1  2.696797  3.247920  3.136872  277.046157    ...      0.122669 -0.992448   \n",
       "2  2.030140  2.418209  2.340353   88.141536    ...      0.032431  0.999474   \n",
       "3  1.847362  2.195203  2.125483   76.873170    ...      0.227107  0.973870   \n",
       "4  1.824698  2.161038  2.093712   65.585050    ...      0.413342  0.910576   \n",
       "\n",
       "    cos_100   sin_100     WS10^2     WS10^3    WS100^2    WS100^3     WS65^2  \\\n",
       "0  0.168156 -0.985760  13.683492  50.616887  20.715863  94.287595  19.169359   \n",
       "1  0.144669 -0.989480   7.272714  19.613031  10.548987  34.262272   9.839966   \n",
       "2  0.008640  0.999963   4.121468   8.367156   5.847736  14.141050   5.477250   \n",
       "3  0.202654  0.979250   3.412745   6.304574   4.818918  10.578504   4.517679   \n",
       "4  0.387903  0.921700   3.329523   6.075375   4.670084  10.092229   4.383628   \n",
       "\n",
       "      WS65^3  \n",
       "0  83.928873  \n",
       "1  30.866715  \n",
       "2  12.818697  \n",
       "3   9.602251  \n",
       "4   9.178053  \n",
       "\n",
       "[5 rows x 22 columns]"
      ]
     },
     "execution_count": 14,
     "metadata": {},
     "output_type": "execute_result"
    }
   ],
   "source": [
    "traindata['WS10^2'] = traindata['WS10']**2\n",
    "traindata['WS10^3'] = traindata['WS10']**3\n",
    "\n",
    "\n",
    "traindata['WS100^2'] = traindata['WS100']**2\n",
    "traindata['WS100^3'] = traindata['WS100']**3\n",
    "\n",
    "\n",
    "traindata['WS65^2'] = traindata['WS65']**2\n",
    "traindata['WS65^3'] = traindata['WS65']**3\n",
    "\n",
    "traindata.head()"
   ]
  },
  {
   "cell_type": "markdown",
   "metadata": {},
   "source": [
    "Next, the same manipulation was made for the forecast data. "
   ]
  },
  {
   "cell_type": "code",
   "execution_count": 15,
   "metadata": {
    "collapsed": false
   },
   "outputs": [
    {
     "data": {
      "text/html": [
       "<div>\n",
       "<table border=\"1\" class=\"dataframe\">\n",
       "  <thead>\n",
       "    <tr style=\"text-align: right;\">\n",
       "      <th></th>\n",
       "      <th>TIMESTAMP</th>\n",
       "      <th>U10</th>\n",
       "      <th>V10</th>\n",
       "      <th>U100</th>\n",
       "      <th>V100</th>\n",
       "      <th>WS10</th>\n",
       "      <th>WS100</th>\n",
       "      <th>WS70</th>\n",
       "      <th>angle_10</th>\n",
       "      <th>angle_100</th>\n",
       "      <th>...</th>\n",
       "      <th>cos_10</th>\n",
       "      <th>sin_10</th>\n",
       "      <th>cos_100</th>\n",
       "      <th>sin_100</th>\n",
       "      <th>WS10-s2</th>\n",
       "      <th>WS10-s3</th>\n",
       "      <th>WS100-s2</th>\n",
       "      <th>WS100-s3</th>\n",
       "      <th>WS70-s2</th>\n",
       "      <th>WS70-s3</th>\n",
       "    </tr>\n",
       "  </thead>\n",
       "  <tbody>\n",
       "    <tr>\n",
       "      <th>0</th>\n",
       "      <td>2013-11-01 01:00:00</td>\n",
       "      <td>3.462251</td>\n",
       "      <td>-1.066374</td>\n",
       "      <td>4.323671</td>\n",
       "      <td>-1.330859</td>\n",
       "      <td>3.622753</td>\n",
       "      <td>4.523861</td>\n",
       "      <td>4.339712</td>\n",
       "      <td>342.881154</td>\n",
       "      <td>342.891229</td>\n",
       "      <td>...</td>\n",
       "      <td>0.955696</td>\n",
       "      <td>-0.294355</td>\n",
       "      <td>0.955748</td>\n",
       "      <td>-0.294187</td>\n",
       "      <td>13.124340</td>\n",
       "      <td>47.546241</td>\n",
       "      <td>20.465319</td>\n",
       "      <td>92.582258</td>\n",
       "      <td>18.833100</td>\n",
       "      <td>81.730231</td>\n",
       "    </tr>\n",
       "    <tr>\n",
       "      <th>1</th>\n",
       "      <td>2013-11-01 02:00:00</td>\n",
       "      <td>3.651341</td>\n",
       "      <td>-0.337717</td>\n",
       "      <td>4.532444</td>\n",
       "      <td>-0.451426</td>\n",
       "      <td>3.666925</td>\n",
       "      <td>4.554870</td>\n",
       "      <td>4.373783</td>\n",
       "      <td>354.715682</td>\n",
       "      <td>354.312173</td>\n",
       "      <td>...</td>\n",
       "      <td>0.995750</td>\n",
       "      <td>-0.092098</td>\n",
       "      <td>0.995077</td>\n",
       "      <td>-0.099108</td>\n",
       "      <td>13.446341</td>\n",
       "      <td>49.306728</td>\n",
       "      <td>20.746836</td>\n",
       "      <td>94.499132</td>\n",
       "      <td>19.129981</td>\n",
       "      <td>83.670391</td>\n",
       "    </tr>\n",
       "    <tr>\n",
       "      <th>2</th>\n",
       "      <td>2013-11-01 03:00:00</td>\n",
       "      <td>3.657829</td>\n",
       "      <td>0.328049</td>\n",
       "      <td>4.527268</td>\n",
       "      <td>0.341374</td>\n",
       "      <td>3.672510</td>\n",
       "      <td>4.540120</td>\n",
       "      <td>4.363509</td>\n",
       "      <td>5.124816</td>\n",
       "      <td>4.312166</td>\n",
       "      <td>...</td>\n",
       "      <td>0.996002</td>\n",
       "      <td>0.089326</td>\n",
       "      <td>0.997169</td>\n",
       "      <td>0.075190</td>\n",
       "      <td>13.487329</td>\n",
       "      <td>49.532352</td>\n",
       "      <td>20.612692</td>\n",
       "      <td>93.584104</td>\n",
       "      <td>19.040210</td>\n",
       "      <td>83.082124</td>\n",
       "    </tr>\n",
       "    <tr>\n",
       "      <th>3</th>\n",
       "      <td>2013-11-01 04:00:00</td>\n",
       "      <td>3.551698</td>\n",
       "      <td>0.735371</td>\n",
       "      <td>4.395563</td>\n",
       "      <td>0.818799</td>\n",
       "      <td>3.627028</td>\n",
       "      <td>4.471175</td>\n",
       "      <td>4.299529</td>\n",
       "      <td>11.697669</td>\n",
       "      <td>10.552027</td>\n",
       "      <td>...</td>\n",
       "      <td>0.979231</td>\n",
       "      <td>0.202747</td>\n",
       "      <td>0.983089</td>\n",
       "      <td>0.183128</td>\n",
       "      <td>13.155329</td>\n",
       "      <td>47.714741</td>\n",
       "      <td>19.991402</td>\n",
       "      <td>89.385051</td>\n",
       "      <td>18.485953</td>\n",
       "      <td>79.480899</td>\n",
       "    </tr>\n",
       "    <tr>\n",
       "      <th>4</th>\n",
       "      <td>2013-11-01 05:00:00</td>\n",
       "      <td>3.586921</td>\n",
       "      <td>1.050811</td>\n",
       "      <td>4.461128</td>\n",
       "      <td>1.251971</td>\n",
       "      <td>3.737673</td>\n",
       "      <td>4.633475</td>\n",
       "      <td>4.450929</td>\n",
       "      <td>16.328281</td>\n",
       "      <td>15.676247</td>\n",
       "      <td>...</td>\n",
       "      <td>0.959667</td>\n",
       "      <td>0.281140</td>\n",
       "      <td>0.962804</td>\n",
       "      <td>0.270201</td>\n",
       "      <td>13.970203</td>\n",
       "      <td>52.216058</td>\n",
       "      <td>21.469093</td>\n",
       "      <td>99.476513</td>\n",
       "      <td>19.810767</td>\n",
       "      <td>88.176310</td>\n",
       "    </tr>\n",
       "  </tbody>\n",
       "</table>\n",
       "<p>5 rows × 21 columns</p>\n",
       "</div>"
      ],
      "text/plain": [
       "            TIMESTAMP       U10       V10      U100      V100      WS10  \\\n",
       "0 2013-11-01 01:00:00  3.462251 -1.066374  4.323671 -1.330859  3.622753   \n",
       "1 2013-11-01 02:00:00  3.651341 -0.337717  4.532444 -0.451426  3.666925   \n",
       "2 2013-11-01 03:00:00  3.657829  0.328049  4.527268  0.341374  3.672510   \n",
       "3 2013-11-01 04:00:00  3.551698  0.735371  4.395563  0.818799  3.627028   \n",
       "4 2013-11-01 05:00:00  3.586921  1.050811  4.461128  1.251971  3.737673   \n",
       "\n",
       "      WS100      WS70    angle_10   angle_100    ...        cos_10    sin_10  \\\n",
       "0  4.523861  4.339712  342.881154  342.891229    ...      0.955696 -0.294355   \n",
       "1  4.554870  4.373783  354.715682  354.312173    ...      0.995750 -0.092098   \n",
       "2  4.540120  4.363509    5.124816    4.312166    ...      0.996002  0.089326   \n",
       "3  4.471175  4.299529   11.697669   10.552027    ...      0.979231  0.202747   \n",
       "4  4.633475  4.450929   16.328281   15.676247    ...      0.959667  0.281140   \n",
       "\n",
       "    cos_100   sin_100    WS10-s2    WS10-s3   WS100-s2   WS100-s3    WS70-s2  \\\n",
       "0  0.955748 -0.294187  13.124340  47.546241  20.465319  92.582258  18.833100   \n",
       "1  0.995077 -0.099108  13.446341  49.306728  20.746836  94.499132  19.129981   \n",
       "2  0.997169  0.075190  13.487329  49.532352  20.612692  93.584104  19.040210   \n",
       "3  0.983089  0.183128  13.155329  47.714741  19.991402  89.385051  18.485953   \n",
       "4  0.962804  0.270201  13.970203  52.216058  21.469093  99.476513  19.810767   \n",
       "\n",
       "     WS70-s3  \n",
       "0  81.730231  \n",
       "1  83.670391  \n",
       "2  83.082124  \n",
       "3  79.480899  \n",
       "4  88.176310  \n",
       "\n",
       "[5 rows x 21 columns]"
      ]
     },
     "execution_count": 15,
     "metadata": {},
     "output_type": "execute_result"
    }
   ],
   "source": [
    "#Wind Speed 10 and 100m.\n",
    "forecast['WS10'] = np.sqrt(forecast['U10']**2 + forecast['V10']**2)\n",
    "forecast['WS100'] = np.sqrt(forecast['U100']**2 + forecast['V100']**2)\n",
    "#Wind Speed 70m height\n",
    "forecast['WS70'] = forecast.WS100*0.65**((np.log(forecast.WS100)-np.log(forecast.WS10))/(np.log(100)-np.log(10)))\n",
    "\n",
    "#Calculate wind angle 10m\n",
    "forecast['angle_10'] = np.arctan(forecast.V10/forecast.U10)   \n",
    "forecast['angle_10'] = np.degrees(forecast['angle_10'])\n",
    "forecast['angle_10'] = np.where(forecast['angle_10'] < 0, 360-abs(forecast.angle_10),forecast.angle_10)\n",
    "#Calculate  wind angle 100m\n",
    "forecast['angle_100'] = np.arctan(forecast.V100/forecast.U100)   \n",
    "forecast['angle_100'] = np.degrees(forecast['angle_100'])\n",
    "forecast['angle_100'] = np.where(forecast['angle_100'] < 0, 360-abs(forecast.angle_100),forecast.angle_100)\n",
    "\n",
    "#take the hour of the forecast\n",
    "forecast.TIMESTAMP =pd.to_datetime(forecast.TIMESTAMP) \n",
    "forecast['hour'] = forecast.TIMESTAMP.dt.hour\n",
    "\n",
    "#Calculate Harmonics\n",
    "forecast['cos_10'] = cos((2*pi*(forecast['angle_10']))/360)\n",
    "forecast['sin_10'] = sin((2*pi*(forecast['angle_10']))/360)\n",
    "forecast['cos_100'] = cos((2*pi*(forecast['angle_100']))/360)\n",
    "forecast['sin_100'] = sin((2*pi*(forecast['angle_100']))/360)\n",
    "\n",
    "#take WS powers (2,3)\n",
    "forecast['WS10-s2'] = forecast['WS10']**2\n",
    "forecast['WS10-s3'] = forecast['WS10']**3\n",
    "\n",
    "\n",
    "forecast['WS100-s2'] = forecast['WS100']**2\n",
    "forecast['WS100-s3'] = forecast['WS100']**3\n",
    "\n",
    "\n",
    "forecast['WS70-s2'] = forecast['WS70']**2\n",
    "forecast['WS70-s3'] = forecast['WS70']**3\n",
    "\n",
    "forecast.head()"
   ]
  },
  {
   "cell_type": "markdown",
   "metadata": {},
   "source": [
    "### Outlier detection!\n",
    "\n",
    "Next, I will clean my data. While checking scatterplots between different wind speeds and the produced power, I discovered wind speed values acting a little weird. Let's check those plots and see what we'll find!"
   ]
  },
  {
   "cell_type": "code",
   "execution_count": 72,
   "metadata": {
    "collapsed": false
   },
   "outputs": [
    {
     "data": {
      "image/png": "[encoded data removed]",
      "text/plain": [
       "<matplotlib.figure.Figure at 0x1ecff252a20>"
      ]
     },
     "metadata": {},
     "output_type": "display_data"
    }
   ],
   "source": [
    "sns.regplot(traindata.WS65,traindata.POWER,fit_reg=False)\n",
    "plt.show()"
   ]
  },
  {
   "cell_type": "markdown",
   "metadata": {},
   "source": [
    "Since there are 16080 values in my traindata, I will choose to drop a bunch of them. In this case, I will drop all values that have a wind speed at 65m that is lower than 2.5 m/s and have produced power greater than 0.7. Furthermore, I will drop all values that have a wind speed greater than 12.5 m/s that produced power less than 0.6. "
   ]
  },
  {
   "cell_type": "code",
   "execution_count": 16,
   "metadata": {
    "collapsed": false
   },
   "outputs": [
    {
     "data": {
      "image/png": "[encoded data removed]",
      "text/plain": [
       "<matplotlib.figure.Figure at 0x28c0163bb00>"
      ]
     },
     "metadata": {},
     "output_type": "display_data"
    }
   ],
   "source": [
    "traindata.drop(traindata[(traindata['WS65'] > 12.5) & (traindata['POWER'] < 0.6)].index, inplace = True)\n",
    "traindata.drop(traindata[(traindata['WS65'] < 2.5) & (traindata['POWER'] > 0.7)].index, inplace = True)\n",
    "\n",
    "sns.regplot(traindata.WS65,traindata.POWER,fit_reg=False)\n",
    "plt.show()"
   ]
  },
  {
   "cell_type": "markdown",
   "metadata": {},
   "source": [
    "My quest on wind speed-power outliers will be continued on the scatterplot for the WS100 feature. Since it's the 2nd most correlated variable, I have to take a look."
   ]
  },
  {
   "cell_type": "code",
   "execution_count": 74,
   "metadata": {
    "collapsed": false
   },
   "outputs": [
    {
     "data": {
      "image/png": "[encoded data removed]",
      "text/plain": [
       "<matplotlib.figure.Figure at 0x1ecfeea07b8>"
      ]
     },
     "metadata": {},
     "output_type": "display_data"
    }
   ],
   "source": [
    "sns.regplot(traindata.WS100,traindata.POWER,fit_reg=False)\n",
    "plt.show()"
   ]
  },
  {
   "cell_type": "markdown",
   "metadata": {},
   "source": [
    "It seems to me, that the cleaning of the WS65 outliers worked at this feature as well. But, I will take it one step further and apply the same filters to this feature. "
   ]
  },
  {
   "cell_type": "code",
   "execution_count": 17,
   "metadata": {
    "collapsed": false
   },
   "outputs": [
    {
     "data": {
      "image/png": "[encoded data removed]",
      "text/plain": [
       "<matplotlib.figure.Figure at 0x28c017681d0>"
      ]
     },
     "metadata": {},
     "output_type": "display_data"
    }
   ],
   "source": [
    "traindata.drop(traindata[(traindata['WS100'] > 12.5) & (traindata['POWER'] < 0.6)].index, inplace = True)\n",
    "traindata.drop(traindata[(traindata['WS100'] < 2.5) & (traindata['POWER'] > 0.7)].index, inplace = True)\n",
    "\n",
    "sns.regplot(traindata.WS100,traindata.POWER,fit_reg=False)\n",
    "plt.show()"
   ]
  },
  {
   "cell_type": "markdown",
   "metadata": {},
   "source": [
    "Very well. Now I will move to the modelling procedure. "
   ]
  },
  {
   "cell_type": "markdown",
   "metadata": {},
   "source": [
    "### Let's predict!"
   ]
  },
  {
   "cell_type": "markdown",
   "metadata": {},
   "source": [
    "Since I have to deal with time-series data, I had to find a sophisticated way to apply cross-validation to my data. While working on this subject, I found a really useful blog from mr.Pochetti. In that blog, mr.Pochetti suggested a really Pythonic method to cross-validate time-series data. Mr. Pochetti, used his method for a classification task, so I had to modify some parts of the code, in order to make it work for my regression problem. The original post from mr.Pochetti can be found [here](http://francescopochetti.com/pythonic-cross-validation-time-series-pandas-scikit-learn/)\n",
    "The \"perfromTimeSeriesCV\" function, separates a train set to a number of chunks and cross-validates one chunk at a time adding one more fold in each iteration. When the iterations are over, the function returns the mean of root absolute errors it calculated in each iteration. Confused? Take a look!\n",
    "\n"
   ]
  },
  {
   "cell_type": "code",
   "execution_count": 18,
   "metadata": {
    "collapsed": true
   },
   "outputs": [],
   "source": [
    "def performTimeSeriesCV(X_train, y_train, number_folds, model):\n",
    "\n",
    "    print( 'Size train set: ', X_train.shape)\n",
    "    \n",
    "    # k is the size of each fold. It is computed dividing the number of \n",
    "    # rows in X_train by number_folds. This number is floored and coerced to int.\n",
    "    k = int(np.floor(float(X_train.shape[0]) / number_folds))\n",
    "    print ('Size of each fold: ', k)\n",
    "    \n",
    "    #It is important to stress that in the CV of Time Series if I have n folds I test n-1 folds as the first\n",
    "    # one is always needed to train\n",
    "    mse = np.zeros(number_folds-1)\n",
    " \n",
    "    # loop from the first 2 folds to the total number of folds    \n",
    "    for i in range(2, number_folds + 1):\n",
    "        print ('')\n",
    "        \n",
    "        # the split is the percentage at which to split the folds into train\n",
    "        # and test. For example when i = 2 we are taking the first 2 folds out \n",
    "        # of the total available. In this specific case we have to split the\n",
    "        # two of them in half (train on the first, test on the second), \n",
    "        # so split = 1/2 = 0.5 = 50%. When i = 3 we are taking the first 3 folds \n",
    "        # out of the total available, meaning that we have to split the three of them\n",
    "        # in two at split = 2/3 = 0.66 = 66% (train on the first 2 and test on the\n",
    "        # following)\n",
    "        split = float(i-1)/i\n",
    "        X = X_train[:(k*i)]\n",
    "        y = y_train[:(k*i)]\n",
    "        print ('Size of train + test: ', X.shape) # the size of the dataframe is going to be k*i\n",
    " \n",
    "        # X and y contain both the folds to train and the fold to test.\n",
    "        # index is the integer telling us where to split, according to the\n",
    "        # split percentage we have set above\n",
    "        index = int(np.floor(X.shape[0] * split))\n",
    "        \n",
    "        # folds used to train the model        \n",
    "        X_trainFolds = X[:index]        \n",
    "        y_trainFolds = y[:index]\n",
    "        \n",
    "        # fold used to test the model\n",
    "        X_testFold = X[(index + 1):]\n",
    "        y_testFold = y[(index + 1):]\n",
    "        \n",
    "        model = model.fit(X_train,y_train)\n",
    "        preds = model.predict(X_testFold)\n",
    "        mse[i-2]= mean_squared_error(y_testFold,preds)\n",
    "        # i starts from 2 so the zeroth element in accuracies array is i-2.              \n",
    "        print ('MSE on fold ' + str(i) + ': ', mse[i-2])\n",
    "    \n",
    "    # the function returns the root of the mean squarred error of the whole trainset     \n",
    "    return np.sqrt(mse.mean())\n"
   ]
  },
  {
   "cell_type": "markdown",
   "metadata": {},
   "source": [
    "The two linear methods I applied to predict were:  \n",
    "1.OLS (ordinary-least-squares) regression (typical Linear Regression) \n",
    "2.Lasso Regression (which is a regression analysis method that performs both variable selection and regularization in order to enhance the prediction accuracy and interpretability of the statistical model it produces). "
   ]
  },
  {
   "cell_type": "code",
   "execution_count": 19,
   "metadata": {
    "collapsed": false
   },
   "outputs": [],
   "source": [
    "#Drop Timestamp columns\n",
    "solution = solution.drop('TIMESTAMP',axis=1)\n",
    "\n",
    "traindata = traindata.drop('TIMESTAMP',axis = 1)\n",
    "\n",
    "forecast = forecast.drop('TIMESTAMP',axis = 1)\n",
    "\n"
   ]
  },
  {
   "cell_type": "code",
   "execution_count": 22,
   "metadata": {
    "collapsed": false
   },
   "outputs": [
    {
     "name": "stdout",
     "output_type": "stream",
     "text": [
      "Size train set:  (16055, 20)\n",
      "Size of each fold:  1605\n",
      "\n",
      "Size of train + test:  (3210, 20)\n",
      "MSE on fold 2:  0.0273873357412\n",
      "\n",
      "Size of train + test:  (4815, 20)\n",
      "MSE on fold 3:  0.0276202360374\n",
      "\n",
      "Size of train + test:  (6420, 20)\n",
      "MSE on fold 4:  0.0266445094494\n",
      "\n",
      "Size of train + test:  (8025, 20)\n",
      "MSE on fold 5:  0.0301218051875\n",
      "\n",
      "Size of train + test:  (9630, 20)\n",
      "MSE on fold 6:  0.0277804022043\n",
      "\n",
      "Size of train + test:  (11235, 20)\n",
      "MSE on fold 7:  0.0351936107215\n",
      "\n",
      "Size of train + test:  (12840, 20)\n",
      "MSE on fold 8:  0.0323457338157\n",
      "\n",
      "Size of train + test:  (14445, 20)\n",
      "MSE on fold 9:  0.0201380147423\n",
      "\n",
      "Size of train + test:  (16050, 20)\n",
      "MSE on fold 10:  0.0292684009135\n",
      "Size train set:  (16055, 20)\n",
      "Size of each fold:  1605\n",
      "\n",
      "Size of train + test:  (3210, 20)\n"
     ]
    },
    {
     "name": "stderr",
     "output_type": "stream",
     "text": [
      "C:\\Users\\Riko\\Anaconda3\\lib\\site-packages\\sklearn\\linear_model\\coordinate_descent.py:484: ConvergenceWarning: Objective did not converge. You might want to increase the number of iterations. Fitting data with very small alpha may cause precision problems.\n",
      "  ConvergenceWarning)\n"
     ]
    },
    {
     "name": "stdout",
     "output_type": "stream",
     "text": [
      "MSE on fold 2:  0.0276692745454\n",
      "\n",
      "Size of train + test:  (4815, 20)\n",
      "MSE on fold 3:  0.0283735632682\n",
      "\n",
      "Size of train + test:  (6420, 20)\n",
      "MSE on fold 4:  0.0272733248955\n",
      "\n",
      "Size of train + test:  (8025, 20)\n",
      "MSE on fold 5:  0.0301801311009\n",
      "\n",
      "Size of train + test:  (9630, 20)\n",
      "MSE on fold 6:  0.0275567581188\n",
      "\n",
      "Size of train + test:  (11235, 20)\n",
      "MSE on fold 7:  0.0349807392484\n",
      "\n",
      "Size of train + test:  (12840, 20)\n",
      "MSE on fold 8:  0.0330828060157\n",
      "\n",
      "Size of train + test:  (14445, 20)\n",
      "MSE on fold 9:  0.0204425912842\n",
      "\n",
      "Size of train + test:  (16050, 20)\n",
      "MSE on fold 10:  0.0298294099135\n",
      "Train Errors\n",
      "-------------------------\n",
      "OLS:16.882 % Lasso:16.977 %\n",
      "-------------------------\n",
      "Root Mean Squared Error at predictions\n",
      "OLS:16.858 % Lasso:16.857 %\n"
     ]
    }
   ],
   "source": [
    "X = traindata.drop('POWER',axis=1)\n",
    "Y = traindata.POWER\n",
    "\n",
    "from sklearn.linear_model import LinearRegression,Lasso\n",
    "from sklearn.metrics import mean_squared_error\n",
    "\n",
    "OLS = LinearRegression()\n",
    "#choose a relatively small alpha for my Lasso model (took some trials)\n",
    "lasso = Lasso(alpha = 1e-6)\n",
    "\n",
    "#Classic Linear Regression Model\n",
    "train_rmse_OLS = performTimeSeriesCV(X,Y,10,OLS)\n",
    "#Forecast!!!!\n",
    "predictions_linear_regression = OLS.predict(forecast)\n",
    "#Set negative values to zero and above 1 values to 1\n",
    "predictions_linear_regression = np.where(predictions_linear_regression > 1, 1, predictions_linear_regression)\n",
    "predictions_linear_regression = np.where(predictions_linear_regression < 0, 0, predictions_linear_regression)\n",
    "#Calculate root mean squarred error for our solution\n",
    "rmse_OLS = np.sqrt(mean_squared_error(solution,predictions_linear_regression))\n",
    "\n",
    "#Lasso Model\n",
    "train_rmse_lasso = performTimeSeriesCV(X,Y,10,lasso)\n",
    "#Forecast!!!!\n",
    "predictions_Lasso = lasso.predict(forecast)\n",
    "#Set negative values to zero and above 1 values to 1\n",
    "predictions_Lasso = np.where(predictions_Lasso > 1, 1, predictions_Lasso)\n",
    "predictions_Lasso = np.where(predictions_Lasso < 0, 0, predictions_Lasso)\n",
    "#Calculate root mean squarred error for our solution\n",
    "rmse_Lasso = np.sqrt(mean_squared_error(solution,predictions_Lasso))\n",
    " \n",
    "print('Train Errors')\n",
    "print('OLS:%.3f'%(train_rmse_OLS*100),'%','Lasso:%.3f'%(train_rmse_lasso*100),'%')\n",
    "print('-------------------------')\n",
    "print('-------------------------')\n",
    "print('Root Mean Squared Error at predictions')\n",
    "print('OLS:%.3f'%(rmse_OLS*100),'%','Lasso:%.3f'%(rmse_Lasso*100),'%')"
   ]
  },
  {
   "cell_type": "markdown",
   "metadata": {},
   "source": [
    "In the next two plots, I want to eyeball the coefficients my models developed. Lasso regression penalizes some features with zero coefficients and I'll take a better view on the feature engineering procedure I worked earlier."
   ]
  },
  {
   "cell_type": "code",
   "execution_count": 23,
   "metadata": {
    "collapsed": false
   },
   "outputs": [
    {
     "name": "stdout",
     "output_type": "stream",
     "text": [
      "Lasso picked 20 features and eliminated the other 0 features\n"
     ]
    },
    {
     "data": {
      "image/png": "[encoded data removed]",
      "text/plain": [
       "<matplotlib.figure.Figure at 0x28c028443c8>"
      ]
     },
     "metadata": {},
     "output_type": "display_data"
    },
    {
     "data": {
      "image/png": "[encoded data removed]",
      "text/plain": [
       "<matplotlib.figure.Figure at 0x28c01f2a550>"
      ]
     },
     "metadata": {},
     "output_type": "display_data"
    }
   ],
   "source": [
    "coefs = pd.Series(lasso.coef_, index = X.columns)\n",
    "print(\"Lasso picked \" + str(sum(coefs != 0)) + \" features and eliminated the other \" + str(sum(coefs == 0)) + \" features\")\n",
    "imp_coefs = pd.concat([coefs.sort_values().head(10),\n",
    "                     coefs.sort_values().tail(10)])\n",
    "imp_coefs.plot(kind = \"barh\")\n",
    "plt.title(\"Coefficients in the Lasso Model\")\n",
    "plt.show()\n",
    "\n",
    "\n",
    "\n",
    "coefs = pd.Series(OLS.coef_, index = X.columns)\n",
    "imp_coefs = pd.concat([coefs.sort_values().head(10),\n",
    "                     coefs.sort_values().tail(10)])\n",
    "imp_coefs.plot(kind = \"barh\")\n",
    "plt.title(\"Coefficients in the OLS Model\")\n",
    "plt.show()\n"
   ]
  },
  {
   "cell_type": "markdown",
   "metadata": {
    "collapsed": true
   },
   "source": [
    "###Ensemble method!\n",
    "Well..so far so good!Linear modelling, did really well. I predicted produced wind power with about 16.86% rmse. It's a really good start and what I can say from it is that probably, if I choose to \"massage\" traindata a little more, linear models might score an even lower error. The really good thing about linear models is how quick they are. \n",
    "\n",
    "Next, I will test how well an ensembled regressor fits to my problem.\n",
    "First, a few words on gradient boosting algorithm. The word \"boosting\" refers to the conversion of weak learnes into strong ones. Gradient boosting algorithm, trains many models at the same time, while every model minimizes the loss function of the whole system. The learning procedure consecutively fit new models to provide a more accurate estimate of the response variable.\n",
    "Because ensembled methods are significantly slower in relatively large datasets, I will tune my model based on some assumptions I made on my data. So, I choose to create 300 estimators. This method is very good against overfitting, if I raise the estimators number I will probably end up with a slightly more accurate but significantly slower model. Furthermore, I set the \"max_depth\" at 5.  The max_depth parameter is used to control over-fitting as higher depth will allow model to learn relations very specific to a particular sample. Since I use the \"performTimeSeriesCV\" function to perform cross-validation, I want my model to be exposed to complex relations among my variables. So the number \"5\" would be ok (default sci-kit learn value: 3). The \"min_samples_split\" parameter is also used to control over-fitting.Higher values prevent a model from learning relations which might be highly specific to the particular sample selected for a tree.Since the default value is 2, I set it to 10 to make my model better at generalization. The learning rate is used to determine the impact of each tree in the final outcome.I'm using a default value 10 times lower than the default one, so that my model is more robust to the specific characteristics of each tree. Finally, the \"loss\" parameter refers to the loss function to be used on the algorithm evaluation process, in this case, I'm using 'ls' which is the least-squares function (similar to the OLS method used earlier). A terrific guide to parameter tuning for gradient boosting algorithm can be found in my favorite [analytics vidhya](https://www.analyticsvidhya.com/blog/2016/02/complete-guide-parameter-tuning-gradient-boosting-gbm-python/)."
   ]
  },
  {
   "cell_type": "code",
   "execution_count": 24,
   "metadata": {
    "collapsed": false
   },
   "outputs": [
    {
     "name": "stdout",
     "output_type": "stream",
     "text": [
      "Size train set:  (16055, 20)\n",
      "Size of each fold:  1605\n",
      "\n",
      "Size of train + test:  (3210, 20)\n",
      "MSE on fold 2:  0.0225760848211\n",
      "\n",
      "Size of train + test:  (4815, 20)\n",
      "MSE on fold 3:  0.0241197387449\n",
      "\n",
      "Size of train + test:  (6420, 20)\n",
      "MSE on fold 4:  0.0216750414744\n",
      "\n",
      "Size of train + test:  (8025, 20)\n",
      "MSE on fold 5:  0.0248277127641\n",
      "\n",
      "Size of train + test:  (9630, 20)\n",
      "MSE on fold 6:  0.0235782630785\n",
      "\n",
      "Size of train + test:  (11235, 20)\n",
      "MSE on fold 7:  0.0297547733728\n",
      "\n",
      "Size of train + test:  (12840, 20)\n",
      "MSE on fold 8:  0.0274524774849\n",
      "\n",
      "Size of train + test:  (14445, 20)\n",
      "MSE on fold 9:  0.0179220460199\n",
      "\n",
      "Size of train + test:  (16050, 20)\n",
      "MSE on fold 10:  0.0244506325665\n",
      "Train RMSE Gradient Boost 15.505 %\n",
      "-----------------------------------------------------------\n",
      "RMSE Gradient Boost 16.724 %\n"
     ]
    }
   ],
   "source": [
    "from sklearn.ensemble import GradientBoostingRegressor\n",
    "params_gb = {'n_estimators': 300, 'max_depth': 5, 'min_samples_split': 20,\n",
    "          'learning_rate': 0.01, 'loss': 'ls'}\n",
    "GB = GradientBoostingRegressor(**params_gb)\n",
    "train_rmse_GB = performTimeSeriesCV(X,Y,10,GB)\n",
    "pred_GB = GB.predict(forecast)\n",
    "\n",
    "rmse_GB = np.sqrt(mean_squared_error(solution,pred_GB))\n",
    "print('Train RMSE Gradient Boost %.3f'%(train_rmse_GB*100),'%')\n",
    "print('-----------------------------------------------------------')\n",
    "print(\"RMSE Gradient Boost %.3f\"%(rmse_GB*100),'%')\n"
   ]
  },
  {
   "cell_type": "markdown",
   "metadata": {},
   "source": [
    "As you can see, the Gradient Boosting Method with this specific tuning, had a reduced rmse (by 0.1%). This may not seem a significant improvement in terms of absolute numbers but given that this method is accompanied by a feature importance attribute, we can see a significant advantage of ensembled methods againts linear statistical modelling.\n",
    "Now, let's check how important each feature were for my model. By doing so, I can evaluate more thoroughly my first steps and see which features my algorithm paid more attention to. I can obtain a more solid image of the way the GB method handled this problem and visit this problem again to work with the input data. "
   ]
  },
  {
   "cell_type": "code",
   "execution_count": 25,
   "metadata": {
    "collapsed": false
   },
   "outputs": [
    {
     "data": {
      "image/png": "[encoded data removed]",
      "text/plain": [
       "<matplotlib.figure.Figure at 0x28c0239bbe0>"
      ]
     },
     "metadata": {},
     "output_type": "display_data"
    }
   ],
   "source": [
    "importances_GB = GB.feature_importances_\n",
    "plt.figure()\n",
    "plt.title(\"Feature importances Gradient Boosting\")\n",
    "plt.bar(range(X.shape[1]), importances_GB,\n",
    "       color=\"g\",align=\"center\")\n",
    "plt.bar(range(X.shape[1]), importances_GB,\n",
    "       color=\"r\",align=\"center\")\n",
    "plt.xticks(range(X.shape[1]), X.columns)\n",
    "plt.xlim([-1, X.shape[1]])\n",
    "plt.tight_layout\n",
    "plt.xticks(rotation = 90 )\n",
    "plt.show()"
   ]
  },
  {
   "cell_type": "markdown",
   "metadata": {},
   "source": [
    "Notice the importance GB algorithm gave to each and everyone feature. Bear in mind that this dataset had 4 features in the beginning and ended up with 20. Furthermore, one can see that the polynomial features were really important to our model's decision. On the other hand, low height speed(10m) was not that important as well as the harmonic features I created. I can use this plot directionally, to revisit the features I created for this project. For example, since the polynomial features appear to be more important, I could try to create some more. On the other hand, since the harmonic and the low-height speed features  scored way below 0.05% I could try to run the model without them. In any case, I've made a step further towards forecasting produced power from windturbines. \n",
    "I hope you enjoyed this project. Feel free to comment, share and discuss this project. I'm really enthusiastic about discussing this awesome stuff with anyone interested, help and get helped!\n",
    "\n",
    "See ya!"
   ]
  }
 ],
 "metadata": {
  "anaconda-cloud": {},
  "kernelspec": {
   "display_name": "Python [Root]",
   "language": "python",
   "name": "Python [Root]"
  },
  "language_info": {
   "codemirror_mode": {
    "name": "ipython",
    "version": 3
   },
   "file_extension": ".py",
   "mimetype": "text/x-python",
   "name": "python",
   "nbconvert_exporter": "python",
   "pygments_lexer": "ipython3",
   "version": "3.5.2"
  }
 },
 "nbformat": 4,
 "nbformat_minor": 0
}
